{
  "cells": [
    {
      "cell_type": "code",
      "execution_count": 1,
      "metadata": {
        "id": "3OnHKkWdLCWF"
      },
      "outputs": [],
      "source": [
        "import numpy as np\n",
        "import pandas as pd\n",
        "import matplotlib.pyplot as plt\n",
        "import seaborn as sns\n",
        "from sklearn.preprocessing import LabelEncoder\n",
        "from sklearn.model_selection import train_test_split\n",
        "from sklearn.preprocessing import StandardScaler, MinMaxScaler\n",
        "from sklearn.model_selection import train_test_split\n",
        "from sklearn.metrics import confusion_matrix\n",
        "from imblearn.over_sampling import SMOTE\n",
        "from tensorflow.keras.layers import BatchNormalization\n",
        "from tensorflow.keras.models import Sequential\n",
        "from tensorflow.keras.layers import Dense, Dropout\n",
        "from tensorflow.keras.utils import to_categorical"
      ]
    },
    {
      "cell_type": "code",
      "execution_count": 2,
      "metadata": {
        "colab": {
          "base_uri": "https://localhost:8080/",
          "height": 382
        },
        "id": "JVQWLZqiLoZ_",
        "outputId": "97394d93-e70a-457f-b048-2fac8a20473b"
      },
      "outputs": [
        {
          "data": {
            "text/html": [
              "<div>\n",
              "<style scoped>\n",
              "    .dataframe tbody tr th:only-of-type {\n",
              "        vertical-align: middle;\n",
              "    }\n",
              "\n",
              "    .dataframe tbody tr th {\n",
              "        vertical-align: top;\n",
              "    }\n",
              "\n",
              "    .dataframe thead th {\n",
              "        text-align: right;\n",
              "    }\n",
              "</style>\n",
              "<table border=\"1\" class=\"dataframe\">\n",
              "  <thead>\n",
              "    <tr style=\"text-align: right;\">\n",
              "      <th></th>\n",
              "      <th>Patient_ID</th>\n",
              "      <th>Age</th>\n",
              "      <th>Gender</th>\n",
              "      <th>Nationality</th>\n",
              "      <th>Emirate</th>\n",
              "      <th>Diagnosis_Date</th>\n",
              "      <th>Cancer_Type</th>\n",
              "      <th>Cancer_Stage</th>\n",
              "      <th>Treatment_Type</th>\n",
              "      <th>Treatment_Start_Date</th>\n",
              "      <th>Hospital</th>\n",
              "      <th>Primary_Physician</th>\n",
              "      <th>Outcome</th>\n",
              "      <th>Death_Date</th>\n",
              "      <th>Cause_of_Death</th>\n",
              "      <th>Smoking_Status</th>\n",
              "      <th>Comorbidities</th>\n",
              "      <th>Ethnicity</th>\n",
              "      <th>Weight</th>\n",
              "      <th>Height</th>\n",
              "    </tr>\n",
              "  </thead>\n",
              "  <tbody>\n",
              "    <tr>\n",
              "      <th>0</th>\n",
              "      <td>PAT000001</td>\n",
              "      <td>69</td>\n",
              "      <td>Female</td>\n",
              "      <td>Emirati</td>\n",
              "      <td>Umm Al Quwain</td>\n",
              "      <td>2020-11-30</td>\n",
              "      <td>Liver</td>\n",
              "      <td>II</td>\n",
              "      <td>Radiation</td>\n",
              "      <td>2020-12-04</td>\n",
              "      <td>Sheikh Khalifa Hospital</td>\n",
              "      <td>Dr. VO41</td>\n",
              "      <td>Recovered</td>\n",
              "      <td>NaN</td>\n",
              "      <td>NaN</td>\n",
              "      <td>Non-Smoker</td>\n",
              "      <td>NaN</td>\n",
              "      <td>European</td>\n",
              "      <td>61</td>\n",
              "      <td>157</td>\n",
              "    </tr>\n",
              "    <tr>\n",
              "      <th>1</th>\n",
              "      <td>PAT000002</td>\n",
              "      <td>32</td>\n",
              "      <td>Male</td>\n",
              "      <td>Emirati</td>\n",
              "      <td>Umm Al Quwain</td>\n",
              "      <td>2015-10-10</td>\n",
              "      <td>Leukemia</td>\n",
              "      <td>III</td>\n",
              "      <td>Surgery</td>\n",
              "      <td>2015-11-05</td>\n",
              "      <td>Dubai Hospital</td>\n",
              "      <td>Dr. SM31</td>\n",
              "      <td>Recovered</td>\n",
              "      <td>NaN</td>\n",
              "      <td>NaN</td>\n",
              "      <td>Smoker</td>\n",
              "      <td>NaN</td>\n",
              "      <td>South Asian</td>\n",
              "      <td>80</td>\n",
              "      <td>175</td>\n",
              "    </tr>\n",
              "    <tr>\n",
              "      <th>2</th>\n",
              "      <td>PAT000003</td>\n",
              "      <td>89</td>\n",
              "      <td>Male</td>\n",
              "      <td>Emirati</td>\n",
              "      <td>Abu Dhabi</td>\n",
              "      <td>2018-02-13</td>\n",
              "      <td>Liver</td>\n",
              "      <td>III</td>\n",
              "      <td>Radiation</td>\n",
              "      <td>2018-08-03</td>\n",
              "      <td>Zayed Military Hospital</td>\n",
              "      <td>Dr. BC7</td>\n",
              "      <td>Under Treatment</td>\n",
              "      <td>NaN</td>\n",
              "      <td>NaN</td>\n",
              "      <td>Non-Smoker</td>\n",
              "      <td>NaN</td>\n",
              "      <td>South Asian</td>\n",
              "      <td>50</td>\n",
              "      <td>175</td>\n",
              "    </tr>\n",
              "    <tr>\n",
              "      <th>3</th>\n",
              "      <td>PAT000004</td>\n",
              "      <td>78</td>\n",
              "      <td>Female</td>\n",
              "      <td>Emirati</td>\n",
              "      <td>Abu Dhabi</td>\n",
              "      <td>2022-02-04</td>\n",
              "      <td>Lung</td>\n",
              "      <td>III</td>\n",
              "      <td>Radiation</td>\n",
              "      <td>2022-03-13</td>\n",
              "      <td>Cleveland Clinic Abu Dhabi</td>\n",
              "      <td>Dr. TC14</td>\n",
              "      <td>Recovered</td>\n",
              "      <td>NaN</td>\n",
              "      <td>NaN</td>\n",
              "      <td>Former Smoker</td>\n",
              "      <td>NaN</td>\n",
              "      <td>African</td>\n",
              "      <td>44</td>\n",
              "      <td>155</td>\n",
              "    </tr>\n",
              "    <tr>\n",
              "      <th>4</th>\n",
              "      <td>PAT000005</td>\n",
              "      <td>38</td>\n",
              "      <td>Female</td>\n",
              "      <td>Emirati</td>\n",
              "      <td>Fujairah</td>\n",
              "      <td>2019-12-03</td>\n",
              "      <td>Pancreatic</td>\n",
              "      <td>II</td>\n",
              "      <td>Chemotherapy</td>\n",
              "      <td>2020-02-29</td>\n",
              "      <td>Sheikh Khalifa Hospital</td>\n",
              "      <td>Dr. YS37</td>\n",
              "      <td>Recovered</td>\n",
              "      <td>NaN</td>\n",
              "      <td>NaN</td>\n",
              "      <td>Former Smoker</td>\n",
              "      <td>NaN</td>\n",
              "      <td>East Asian</td>\n",
              "      <td>101</td>\n",
              "      <td>160</td>\n",
              "    </tr>\n",
              "  </tbody>\n",
              "</table>\n",
              "</div>"
            ],
            "text/plain": [
              "  Patient_ID  Age  Gender Nationality        Emirate Diagnosis_Date  \\\n",
              "0  PAT000001   69  Female     Emirati  Umm Al Quwain     2020-11-30   \n",
              "1  PAT000002   32    Male     Emirati  Umm Al Quwain     2015-10-10   \n",
              "2  PAT000003   89    Male     Emirati      Abu Dhabi     2018-02-13   \n",
              "3  PAT000004   78  Female     Emirati      Abu Dhabi     2022-02-04   \n",
              "4  PAT000005   38  Female     Emirati       Fujairah     2019-12-03   \n",
              "\n",
              "  Cancer_Type Cancer_Stage Treatment_Type Treatment_Start_Date  \\\n",
              "0       Liver           II      Radiation           2020-12-04   \n",
              "1    Leukemia          III        Surgery           2015-11-05   \n",
              "2       Liver          III      Radiation           2018-08-03   \n",
              "3        Lung          III      Radiation           2022-03-13   \n",
              "4  Pancreatic           II   Chemotherapy           2020-02-29   \n",
              "\n",
              "                     Hospital Primary_Physician          Outcome Death_Date  \\\n",
              "0     Sheikh Khalifa Hospital          Dr. VO41        Recovered        NaN   \n",
              "1              Dubai Hospital          Dr. SM31        Recovered        NaN   \n",
              "2     Zayed Military Hospital           Dr. BC7  Under Treatment        NaN   \n",
              "3  Cleveland Clinic Abu Dhabi          Dr. TC14        Recovered        NaN   \n",
              "4     Sheikh Khalifa Hospital          Dr. YS37        Recovered        NaN   \n",
              "\n",
              "  Cause_of_Death Smoking_Status Comorbidities    Ethnicity  Weight  Height  \n",
              "0            NaN     Non-Smoker           NaN     European      61     157  \n",
              "1            NaN         Smoker           NaN  South Asian      80     175  \n",
              "2            NaN     Non-Smoker           NaN  South Asian      50     175  \n",
              "3            NaN  Former Smoker           NaN      African      44     155  \n",
              "4            NaN  Former Smoker           NaN   East Asian     101     160  "
            ]
          },
          "execution_count": 2,
          "metadata": {},
          "output_type": "execute_result"
        }
      ],
      "source": [
        "cancer = pd.read_csv(r'C:\\Users\\Metehan Sevgil\\Desktop\\KODLAR\\Phyton\\derin_proje\\_cancer_dataset_uae.csv')\n",
        "\n",
        "cancer.head()"
      ]
    },
    {
      "cell_type": "code",
      "execution_count": 3,
      "metadata": {
        "colab": {
          "base_uri": "https://localhost:8080/"
        },
        "id": "0El8_OvFLuDo",
        "outputId": "9184e6fe-1285-4ee1-cfe9-8b10ca5a92df"
      },
      "outputs": [
        {
          "name": "stdout",
          "output_type": "stream",
          "text": [
            "<class 'pandas.core.frame.DataFrame'>\n",
            "RangeIndex: 10000 entries, 0 to 9999\n",
            "Data columns (total 20 columns):\n",
            " #   Column                Non-Null Count  Dtype \n",
            "---  ------                --------------  ----- \n",
            " 0   Patient_ID            10000 non-null  object\n",
            " 1   Age                   10000 non-null  int64 \n",
            " 2   Gender                10000 non-null  object\n",
            " 3   Nationality           10000 non-null  object\n",
            " 4   Emirate               10000 non-null  object\n",
            " 5   Diagnosis_Date        10000 non-null  object\n",
            " 6   Cancer_Type           10000 non-null  object\n",
            " 7   Cancer_Stage          10000 non-null  object\n",
            " 8   Treatment_Type        10000 non-null  object\n",
            " 9   Treatment_Start_Date  10000 non-null  object\n",
            " 10  Hospital              10000 non-null  object\n",
            " 11  Primary_Physician     10000 non-null  object\n",
            " 12  Outcome               10000 non-null  object\n",
            " 13  Death_Date            992 non-null    object\n",
            " 14  Cause_of_Death        992 non-null    object\n",
            " 15  Smoking_Status        10000 non-null  object\n",
            " 16  Comorbidities         5953 non-null   object\n",
            " 17  Ethnicity             10000 non-null  object\n",
            " 18  Weight                10000 non-null  int64 \n",
            " 19  Height                10000 non-null  int64 \n",
            "dtypes: int64(3), object(17)\n",
            "memory usage: 1.5+ MB\n"
          ]
        }
      ],
      "source": [
        "cancer.info()"
      ]
    },
    {
      "cell_type": "code",
      "execution_count": 4,
      "metadata": {
        "id": "GN2yHi6fREYk"
      },
      "outputs": [],
      "source": [
        "def build_model(input_dim):\n",
        "    model = Sequential([\n",
        "    Dense(512, activation='relu', input_shape=input_dim),\n",
        "    BatchNormalization(),\n",
        "    Dropout(0.3),\n",
        "\n",
        "    Dense(256, activation='relu'),\n",
        "    BatchNormalization(),\n",
        "    Dropout(0.3),\n",
        "\n",
        "    Dense(128, activation='relu'),\n",
        "    BatchNormalization(),\n",
        "    Dropout(0.2),\n",
        "\n",
        "    Dense(64, activation='relu'),\n",
        "    BatchNormalization(),\n",
        "    Dropout(0.2),\n",
        "\n",
        "    Dense(3, activation='softmax')])\n",
        "\n",
        "    model.compile(optimizer='adam',\n",
        "              loss='categorical_crossentropy',\n",
        "              metrics=['accuracy'])\n",
        "\n",
        "    return model"
      ]
    },
    {
      "cell_type": "code",
      "execution_count": 5,
      "metadata": {
        "colab": {
          "base_uri": "https://localhost:8080/",
          "height": 206
        },
        "id": "KWnKnjHxRoaU",
        "outputId": "a7b02104-0744-4864-bdb7-e8ae7e6aa5d7"
      },
      "outputs": [
        {
          "data": {
            "text/html": [
              "<div>\n",
              "<style scoped>\n",
              "    .dataframe tbody tr th:only-of-type {\n",
              "        vertical-align: middle;\n",
              "    }\n",
              "\n",
              "    .dataframe tbody tr th {\n",
              "        vertical-align: top;\n",
              "    }\n",
              "\n",
              "    .dataframe thead th {\n",
              "        text-align: right;\n",
              "    }\n",
              "</style>\n",
              "<table border=\"1\" class=\"dataframe\">\n",
              "  <thead>\n",
              "    <tr style=\"text-align: right;\">\n",
              "      <th></th>\n",
              "      <th>Age</th>\n",
              "      <th>Cancer_Type</th>\n",
              "      <th>Cancer_Stage</th>\n",
              "      <th>Treatment_Type</th>\n",
              "      <th>Outcome</th>\n",
              "      <th>Smoking_Status</th>\n",
              "      <th>Comorbidities</th>\n",
              "      <th>Weight</th>\n",
              "      <th>Height</th>\n",
              "    </tr>\n",
              "  </thead>\n",
              "  <tbody>\n",
              "    <tr>\n",
              "      <th>0</th>\n",
              "      <td>69</td>\n",
              "      <td>Liver</td>\n",
              "      <td>II</td>\n",
              "      <td>Radiation</td>\n",
              "      <td>Recovered</td>\n",
              "      <td>Non-Smoker</td>\n",
              "      <td>Hypertension</td>\n",
              "      <td>61</td>\n",
              "      <td>157</td>\n",
              "    </tr>\n",
              "    <tr>\n",
              "      <th>1</th>\n",
              "      <td>32</td>\n",
              "      <td>Leukemia</td>\n",
              "      <td>III</td>\n",
              "      <td>Surgery</td>\n",
              "      <td>Recovered</td>\n",
              "      <td>Smoker</td>\n",
              "      <td>Hypertension</td>\n",
              "      <td>80</td>\n",
              "      <td>175</td>\n",
              "    </tr>\n",
              "    <tr>\n",
              "      <th>2</th>\n",
              "      <td>89</td>\n",
              "      <td>Liver</td>\n",
              "      <td>III</td>\n",
              "      <td>Radiation</td>\n",
              "      <td>Under Treatment</td>\n",
              "      <td>Non-Smoker</td>\n",
              "      <td>Hypertension</td>\n",
              "      <td>50</td>\n",
              "      <td>175</td>\n",
              "    </tr>\n",
              "    <tr>\n",
              "      <th>3</th>\n",
              "      <td>78</td>\n",
              "      <td>Lung</td>\n",
              "      <td>III</td>\n",
              "      <td>Radiation</td>\n",
              "      <td>Recovered</td>\n",
              "      <td>Former Smoker</td>\n",
              "      <td>Hypertension</td>\n",
              "      <td>44</td>\n",
              "      <td>155</td>\n",
              "    </tr>\n",
              "    <tr>\n",
              "      <th>4</th>\n",
              "      <td>38</td>\n",
              "      <td>Pancreatic</td>\n",
              "      <td>II</td>\n",
              "      <td>Chemotherapy</td>\n",
              "      <td>Recovered</td>\n",
              "      <td>Former Smoker</td>\n",
              "      <td>Hypertension</td>\n",
              "      <td>101</td>\n",
              "      <td>160</td>\n",
              "    </tr>\n",
              "  </tbody>\n",
              "</table>\n",
              "</div>"
            ],
            "text/plain": [
              "   Age Cancer_Type Cancer_Stage Treatment_Type          Outcome  \\\n",
              "0   69       Liver           II      Radiation        Recovered   \n",
              "1   32    Leukemia          III        Surgery        Recovered   \n",
              "2   89       Liver          III      Radiation  Under Treatment   \n",
              "3   78        Lung          III      Radiation        Recovered   \n",
              "4   38  Pancreatic           II   Chemotherapy        Recovered   \n",
              "\n",
              "  Smoking_Status Comorbidities  Weight  Height  \n",
              "0     Non-Smoker  Hypertension      61     157  \n",
              "1         Smoker  Hypertension      80     175  \n",
              "2     Non-Smoker  Hypertension      50     175  \n",
              "3  Former Smoker  Hypertension      44     155  \n",
              "4  Former Smoker  Hypertension     101     160  "
            ]
          },
          "execution_count": 5,
          "metadata": {},
          "output_type": "execute_result"
        }
      ],
      "source": [
        "cancer_clean_first = cancer.drop(['Patient_ID', 'Death_Date', 'Cause_of_Death',\n",
        "                            'Diagnosis_Date', 'Treatment_Start_Date',\n",
        "                            'Primary_Physician', 'Emirate', 'Ethnicity',\n",
        "                            'Gender', 'Nationality', 'Hospital'], axis=1)\n",
        "\n",
        "cancer_clean_first['Comorbidities'] = cancer_clean_first.groupby(['Smoking_Status', 'Outcome'])['Comorbidities'].transform(lambda x: x.fillna(x.mode()[0]))\n",
        "cancer_clean_first.head()"
      ]
    },
    {
      "cell_type": "code",
      "execution_count": 6,
      "metadata": {
        "colab": {
          "base_uri": "https://localhost:8080/",
          "height": 206
        },
        "id": "dT5KLBH039ug",
        "outputId": "aa2f9d8f-62ec-4d31-ced0-275ea97a449a"
      },
      "outputs": [
        {
          "data": {
            "text/html": [
              "<div>\n",
              "<style scoped>\n",
              "    .dataframe tbody tr th:only-of-type {\n",
              "        vertical-align: middle;\n",
              "    }\n",
              "\n",
              "    .dataframe tbody tr th {\n",
              "        vertical-align: top;\n",
              "    }\n",
              "\n",
              "    .dataframe thead th {\n",
              "        text-align: right;\n",
              "    }\n",
              "</style>\n",
              "<table border=\"1\" class=\"dataframe\">\n",
              "  <thead>\n",
              "    <tr style=\"text-align: right;\">\n",
              "      <th></th>\n",
              "      <th>Age</th>\n",
              "      <th>Cancer_Type</th>\n",
              "      <th>Cancer_Stage</th>\n",
              "      <th>Treatment_Type</th>\n",
              "      <th>Outcome</th>\n",
              "      <th>Smoking_Status</th>\n",
              "      <th>Comorbidities</th>\n",
              "      <th>Weight</th>\n",
              "      <th>Height</th>\n",
              "    </tr>\n",
              "  </thead>\n",
              "  <tbody>\n",
              "    <tr>\n",
              "      <th>0</th>\n",
              "      <td>0.744849</td>\n",
              "      <td>3</td>\n",
              "      <td>1</td>\n",
              "      <td>2</td>\n",
              "      <td>1</td>\n",
              "      <td>1</td>\n",
              "      <td>2</td>\n",
              "      <td>-0.572573</td>\n",
              "      <td>-1.226214</td>\n",
              "    </tr>\n",
              "    <tr>\n",
              "      <th>1</th>\n",
              "      <td>-1.037743</td>\n",
              "      <td>2</td>\n",
              "      <td>2</td>\n",
              "      <td>3</td>\n",
              "      <td>1</td>\n",
              "      <td>2</td>\n",
              "      <td>2</td>\n",
              "      <td>0.699812</td>\n",
              "      <td>0.561342</td>\n",
              "    </tr>\n",
              "    <tr>\n",
              "      <th>2</th>\n",
              "      <td>1.708413</td>\n",
              "      <td>3</td>\n",
              "      <td>2</td>\n",
              "      <td>2</td>\n",
              "      <td>2</td>\n",
              "      <td>1</td>\n",
              "      <td>2</td>\n",
              "      <td>-1.309217</td>\n",
              "      <td>0.561342</td>\n",
              "    </tr>\n",
              "    <tr>\n",
              "      <th>3</th>\n",
              "      <td>1.178453</td>\n",
              "      <td>4</td>\n",
              "      <td>2</td>\n",
              "      <td>2</td>\n",
              "      <td>1</td>\n",
              "      <td>0</td>\n",
              "      <td>2</td>\n",
              "      <td>-1.711022</td>\n",
              "      <td>-1.424831</td>\n",
              "    </tr>\n",
              "    <tr>\n",
              "      <th>4</th>\n",
              "      <td>-0.748674</td>\n",
              "      <td>6</td>\n",
              "      <td>1</td>\n",
              "      <td>0</td>\n",
              "      <td>1</td>\n",
              "      <td>0</td>\n",
              "      <td>2</td>\n",
              "      <td>2.106131</td>\n",
              "      <td>-0.928288</td>\n",
              "    </tr>\n",
              "  </tbody>\n",
              "</table>\n",
              "</div>"
            ],
            "text/plain": [
              "        Age  Cancer_Type  Cancer_Stage  Treatment_Type  Outcome  \\\n",
              "0  0.744849            3             1               2        1   \n",
              "1 -1.037743            2             2               3        1   \n",
              "2  1.708413            3             2               2        2   \n",
              "3  1.178453            4             2               2        1   \n",
              "4 -0.748674            6             1               0        1   \n",
              "\n",
              "   Smoking_Status  Comorbidities    Weight    Height  \n",
              "0               1              2 -0.572573 -1.226214  \n",
              "1               2              2  0.699812  0.561342  \n",
              "2               1              2 -1.309217  0.561342  \n",
              "3               0              2 -1.711022 -1.424831  \n",
              "4               0              2  2.106131 -0.928288  "
            ]
          },
          "execution_count": 6,
          "metadata": {},
          "output_type": "execute_result"
        }
      ],
      "source": [
        "numeric_columns = ['Age', 'Weight', 'Height']\n",
        "\n",
        "scaler = StandardScaler()\n",
        "\n",
        "cancer_clean_first[numeric_columns] = scaler.fit_transform(cancer_clean_first[numeric_columns])\n",
        "\n",
        "categorical_cols = cancer_clean_first.select_dtypes(include=['object']).columns\n",
        "label_encoder = LabelEncoder()\n",
        "for col in categorical_cols:\n",
        "    cancer_clean_first[col] = label_encoder.fit_transform(cancer_clean_first[col])\n",
        "\n",
        "cancer_clean_first.head()"
      ]
    },
    {
      "cell_type": "code",
      "execution_count": 7,
      "metadata": {
        "colab": {
          "base_uri": "https://localhost:8080/"
        },
        "id": "sFfh6rNw8gwG",
        "outputId": "1d769afd-e185-4f49-f64d-039332cfcdb2"
      },
      "outputs": [
        {
          "name": "stdout",
          "output_type": "stream",
          "text": [
            "<class 'pandas.core.frame.DataFrame'>\n",
            "RangeIndex: 10000 entries, 0 to 9999\n",
            "Data columns (total 9 columns):\n",
            " #   Column          Non-Null Count  Dtype  \n",
            "---  ------          --------------  -----  \n",
            " 0   Age             10000 non-null  float64\n",
            " 1   Cancer_Type     10000 non-null  int32  \n",
            " 2   Cancer_Stage    10000 non-null  int32  \n",
            " 3   Treatment_Type  10000 non-null  int32  \n",
            " 4   Outcome         10000 non-null  int32  \n",
            " 5   Smoking_Status  10000 non-null  int32  \n",
            " 6   Comorbidities   10000 non-null  int32  \n",
            " 7   Weight          10000 non-null  float64\n",
            " 8   Height          10000 non-null  float64\n",
            "dtypes: float64(3), int32(6)\n",
            "memory usage: 468.9 KB\n"
          ]
        }
      ],
      "source": [
        "cancer_clean_first.info()"
      ]
    },
    {
      "cell_type": "code",
      "execution_count": 8,
      "metadata": {
        "colab": {
          "base_uri": "https://localhost:8080/",
          "height": 209
        },
        "id": "mVRJT6n34hjG",
        "outputId": "0d632357-d3fb-4f84-f498-aa7e89105463"
      },
      "outputs": [
        {
          "data": {
            "text/plain": [
              "Outcome\n",
              "1    4931\n",
              "2    4077\n",
              "0     992\n",
              "Name: count, dtype: int64"
            ]
          },
          "execution_count": 8,
          "metadata": {},
          "output_type": "execute_result"
        }
      ],
      "source": [
        "X_first = cancer_clean_first.drop('Outcome', axis=1)\n",
        "y_first = cancer_clean_first['Outcome']\n",
        "\n",
        "y_first.value_counts()"
      ]
    },
    {
      "cell_type": "code",
      "execution_count": 9,
      "metadata": {
        "colab": {
          "base_uri": "https://localhost:8080/"
        },
        "id": "2T88CpsoyfFd",
        "outputId": "281b636c-4343-4d8b-d3bb-c01452115661"
      },
      "outputs": [
        {
          "name": "stdout",
          "output_type": "stream",
          "text": [
            "Outcome\n",
            "1    4931\n",
            "2    4077\n",
            "0     992\n",
            "Name: count, dtype: int64\n"
          ]
        }
      ],
      "source": [
        "y_first_cat = to_categorical(y_first, num_classes=3)\n",
        "\n",
        "print(pd.Series(y_first).value_counts())"
      ]
    },
    {
      "cell_type": "code",
      "execution_count": 10,
      "metadata": {
        "id": "6S0MioVDyopv"
      },
      "outputs": [],
      "source": [
        "X_train_first, X_test_first, y_train_first, y_test_first = train_test_split(X_first, y_first_cat, test_size=0.2, random_state=0, stratify=y_first_cat)"
      ]
    },
    {
      "cell_type": "code",
      "execution_count": 11,
      "metadata": {
        "colab": {
          "base_uri": "https://localhost:8080/"
        },
        "id": "YzZOguwG5YoK",
        "outputId": "235f90b9-eff0-4a28-f295-06a21c7f1e03"
      },
      "outputs": [],
      "source": [
        "model_first = build_model(input_dim=(X_train_first.shape[1],))"
      ]
    },
    {
      "cell_type": "code",
      "execution_count": 12,
      "metadata": {
        "id": "8jFJ-Jaql7-W"
      },
      "outputs": [],
      "source": [
        "def plot_accuracy(history):\n",
        "    plt.plot(history.history['accuracy'])\n",
        "    plt.plot(history.history['val_accuracy'])\n",
        "    plt.title('Model Accuracy')\n",
        "    plt.ylabel('Accuracy')\n",
        "    plt.xlabel('Epoch')\n",
        "    plt.legend(['Train', 'Validation'])\n",
        "    plt.show()"
      ]
    },
    {
      "cell_type": "code",
      "execution_count": 13,
      "metadata": {},
      "outputs": [],
      "source": [
        "def plot_loss(history):\n",
        "    plt.plot(history.history['loss'])\n",
        "    plt.plot(history.history['val_loss'])\n",
        "    plt.title('Model Loss')\n",
        "    plt.ylabel('Loss')\n",
        "    plt.xlabel('Epoch')\n",
        "    plt.legend(['Train', 'Validation'])\n",
        "    plt.show()"
      ]
    },
    {
      "cell_type": "code",
      "execution_count": 14,
      "metadata": {
        "id": "_jBKSz5zmTSC"
      },
      "outputs": [],
      "source": [
        "def confusion_matrix_plot(y_true, y_pred):\n",
        "    cm = confusion_matrix(y_true, y_pred)\n",
        "    plt.figure(figsize=(8, 6))\n",
        "    sns.heatmap(cm, annot=True, fmt='d', cmap='Blues')\n",
        "    plt.title('Confusion Matrix')\n",
        "    plt.xlabel('Predicted Label')\n",
        "    plt.ylabel('True Label')\n",
        "    plt.show()"
      ]
    },
    {
      "cell_type": "code",
      "execution_count": 15,
      "metadata": {
        "colab": {
          "base_uri": "https://localhost:8080/"
        },
        "id": "9FNXb7rt6YHx",
        "outputId": "1f8673f4-c71a-4511-9809-22c0ffbbcf2b"
      },
      "outputs": [
        {
          "name": "stdout",
          "output_type": "stream",
          "text": [
            "Epoch 1/50\n",
            "125/125 [==============================] - 5s 17ms/step - loss: 1.2979 - accuracy: 0.3984 - val_loss: 0.9715 - val_accuracy: 0.4485\n",
            "Epoch 2/50\n",
            "125/125 [==============================] - 2s 16ms/step - loss: 1.0756 - accuracy: 0.4464 - val_loss: 0.9528 - val_accuracy: 0.4765\n",
            "Epoch 3/50\n",
            "125/125 [==============================] - 1s 11ms/step - loss: 1.0285 - accuracy: 0.4572 - val_loss: 0.9455 - val_accuracy: 0.4845\n",
            "Epoch 4/50\n",
            "125/125 [==============================] - 1s 11ms/step - loss: 0.9855 - accuracy: 0.4708 - val_loss: 0.9484 - val_accuracy: 0.4760\n",
            "Epoch 5/50\n",
            "125/125 [==============================] - 2s 12ms/step - loss: 0.9696 - accuracy: 0.4805 - val_loss: 0.9475 - val_accuracy: 0.4780\n",
            "Epoch 6/50\n",
            "125/125 [==============================] - 2s 13ms/step - loss: 0.9632 - accuracy: 0.4794 - val_loss: 0.9505 - val_accuracy: 0.4815\n",
            "Epoch 7/50\n",
            "125/125 [==============================] - 1s 11ms/step - loss: 0.9615 - accuracy: 0.4755 - val_loss: 0.9487 - val_accuracy: 0.4725\n",
            "Epoch 8/50\n",
            "125/125 [==============================] - 1s 10ms/step - loss: 0.9590 - accuracy: 0.4717 - val_loss: 0.9525 - val_accuracy: 0.4700\n",
            "Epoch 9/50\n",
            "125/125 [==============================] - 1s 11ms/step - loss: 0.9501 - accuracy: 0.4849 - val_loss: 0.9479 - val_accuracy: 0.4815\n",
            "Epoch 10/50\n",
            "125/125 [==============================] - 1s 11ms/step - loss: 0.9472 - accuracy: 0.4880 - val_loss: 0.9496 - val_accuracy: 0.4835\n",
            "Epoch 11/50\n",
            "125/125 [==============================] - 2s 13ms/step - loss: 0.9479 - accuracy: 0.4812 - val_loss: 0.9475 - val_accuracy: 0.4800\n",
            "Epoch 12/50\n",
            "125/125 [==============================] - 1s 12ms/step - loss: 0.9475 - accuracy: 0.4890 - val_loss: 0.9487 - val_accuracy: 0.4840\n",
            "Epoch 13/50\n",
            "125/125 [==============================] - 1s 12ms/step - loss: 0.9444 - accuracy: 0.4866 - val_loss: 0.9462 - val_accuracy: 0.4905\n",
            "Epoch 14/50\n",
            "125/125 [==============================] - 2s 13ms/step - loss: 0.9467 - accuracy: 0.4914 - val_loss: 0.9464 - val_accuracy: 0.4825\n",
            "Epoch 15/50\n",
            "125/125 [==============================] - 2s 12ms/step - loss: 0.9429 - accuracy: 0.4914 - val_loss: 0.9488 - val_accuracy: 0.4820\n",
            "Epoch 16/50\n",
            "125/125 [==============================] - 2s 12ms/step - loss: 0.9428 - accuracy: 0.4865 - val_loss: 0.9511 - val_accuracy: 0.4745\n",
            "Epoch 17/50\n",
            "125/125 [==============================] - 1s 12ms/step - loss: 0.9407 - accuracy: 0.4875 - val_loss: 0.9523 - val_accuracy: 0.4890\n",
            "Epoch 18/50\n",
            "125/125 [==============================] - 2s 15ms/step - loss: 0.9408 - accuracy: 0.4855 - val_loss: 0.9547 - val_accuracy: 0.4815\n",
            "Epoch 19/50\n",
            "125/125 [==============================] - 2s 14ms/step - loss: 0.9411 - accuracy: 0.4954 - val_loss: 0.9503 - val_accuracy: 0.4775\n",
            "Epoch 20/50\n",
            "125/125 [==============================] - 2s 12ms/step - loss: 0.9399 - accuracy: 0.4905 - val_loss: 0.9522 - val_accuracy: 0.4765\n",
            "Epoch 21/50\n",
            "125/125 [==============================] - 2s 13ms/step - loss: 0.9382 - accuracy: 0.4951 - val_loss: 0.9522 - val_accuracy: 0.4830\n",
            "Epoch 22/50\n",
            "125/125 [==============================] - 1s 12ms/step - loss: 0.9371 - accuracy: 0.4989 - val_loss: 0.9520 - val_accuracy: 0.4795\n",
            "Epoch 23/50\n",
            "125/125 [==============================] - 1s 11ms/step - loss: 0.9371 - accuracy: 0.4996 - val_loss: 0.9524 - val_accuracy: 0.4795\n",
            "Epoch 24/50\n",
            "125/125 [==============================] - 2s 13ms/step - loss: 0.9394 - accuracy: 0.4891 - val_loss: 0.9522 - val_accuracy: 0.4785\n",
            "Epoch 25/50\n",
            "125/125 [==============================] - 1s 12ms/step - loss: 0.9337 - accuracy: 0.4978 - val_loss: 0.9565 - val_accuracy: 0.4765\n",
            "Epoch 26/50\n",
            "125/125 [==============================] - 1s 12ms/step - loss: 0.9351 - accuracy: 0.4947 - val_loss: 0.9544 - val_accuracy: 0.4870\n",
            "Epoch 27/50\n",
            "125/125 [==============================] - 1s 11ms/step - loss: 0.9352 - accuracy: 0.5009 - val_loss: 0.9555 - val_accuracy: 0.4835\n",
            "Epoch 28/50\n",
            "125/125 [==============================] - 1s 12ms/step - loss: 0.9328 - accuracy: 0.5030 - val_loss: 0.9562 - val_accuracy: 0.4840\n",
            "Epoch 29/50\n",
            "125/125 [==============================] - 2s 12ms/step - loss: 0.9328 - accuracy: 0.4979 - val_loss: 0.9563 - val_accuracy: 0.4800\n",
            "Epoch 30/50\n",
            "125/125 [==============================] - 1s 12ms/step - loss: 0.9322 - accuracy: 0.5075 - val_loss: 0.9555 - val_accuracy: 0.4885\n",
            "Epoch 31/50\n",
            "125/125 [==============================] - 1s 12ms/step - loss: 0.9339 - accuracy: 0.4966 - val_loss: 0.9601 - val_accuracy: 0.4800\n",
            "Epoch 32/50\n",
            "125/125 [==============================] - 1s 11ms/step - loss: 0.9303 - accuracy: 0.4979 - val_loss: 0.9567 - val_accuracy: 0.4935\n",
            "Epoch 33/50\n",
            "125/125 [==============================] - 2s 12ms/step - loss: 0.9302 - accuracy: 0.5027 - val_loss: 0.9625 - val_accuracy: 0.4815\n",
            "Epoch 34/50\n",
            "125/125 [==============================] - 1s 12ms/step - loss: 0.9296 - accuracy: 0.4913 - val_loss: 0.9608 - val_accuracy: 0.4805\n",
            "Epoch 35/50\n",
            "125/125 [==============================] - 2s 12ms/step - loss: 0.9277 - accuracy: 0.5014 - val_loss: 0.9597 - val_accuracy: 0.4950\n",
            "Epoch 36/50\n",
            "125/125 [==============================] - 2s 12ms/step - loss: 0.9298 - accuracy: 0.4978 - val_loss: 0.9652 - val_accuracy: 0.4800\n",
            "Epoch 37/50\n",
            "125/125 [==============================] - 2s 13ms/step - loss: 0.9240 - accuracy: 0.5034 - val_loss: 0.9678 - val_accuracy: 0.4695\n",
            "Epoch 38/50\n",
            "125/125 [==============================] - 1s 11ms/step - loss: 0.9250 - accuracy: 0.5074 - val_loss: 0.9677 - val_accuracy: 0.4660\n",
            "Epoch 39/50\n",
            "125/125 [==============================] - 1s 11ms/step - loss: 0.9259 - accuracy: 0.5055 - val_loss: 0.9661 - val_accuracy: 0.4730\n",
            "Epoch 40/50\n",
            "125/125 [==============================] - 1s 12ms/step - loss: 0.9239 - accuracy: 0.5010 - val_loss: 0.9620 - val_accuracy: 0.4780\n",
            "Epoch 41/50\n",
            "125/125 [==============================] - 2s 13ms/step - loss: 0.9240 - accuracy: 0.5036 - val_loss: 0.9639 - val_accuracy: 0.4950\n",
            "Epoch 42/50\n",
            "125/125 [==============================] - 2s 13ms/step - loss: 0.9235 - accuracy: 0.5056 - val_loss: 0.9653 - val_accuracy: 0.4840\n",
            "Epoch 43/50\n",
            "125/125 [==============================] - 2s 12ms/step - loss: 0.9217 - accuracy: 0.5059 - val_loss: 0.9728 - val_accuracy: 0.4760\n",
            "Epoch 44/50\n",
            "125/125 [==============================] - 2s 12ms/step - loss: 0.9181 - accuracy: 0.5126 - val_loss: 0.9638 - val_accuracy: 0.4805\n",
            "Epoch 45/50\n",
            "125/125 [==============================] - 1s 11ms/step - loss: 0.9180 - accuracy: 0.5128 - val_loss: 0.9666 - val_accuracy: 0.4860\n",
            "Epoch 46/50\n",
            "125/125 [==============================] - 2s 14ms/step - loss: 0.9186 - accuracy: 0.5109 - val_loss: 0.9697 - val_accuracy: 0.4890\n",
            "Epoch 47/50\n",
            "125/125 [==============================] - 2s 17ms/step - loss: 0.9130 - accuracy: 0.5136 - val_loss: 0.9693 - val_accuracy: 0.4935\n",
            "Epoch 48/50\n",
            "125/125 [==============================] - 2s 18ms/step - loss: 0.9199 - accuracy: 0.5082 - val_loss: 0.9665 - val_accuracy: 0.4930\n",
            "Epoch 49/50\n",
            "125/125 [==============================] - 2s 17ms/step - loss: 0.9160 - accuracy: 0.5136 - val_loss: 0.9795 - val_accuracy: 0.4880\n",
            "Epoch 50/50\n",
            "125/125 [==============================] - 2s 13ms/step - loss: 0.9121 - accuracy: 0.5174 - val_loss: 0.9758 - val_accuracy: 0.4875\n"
          ]
        }
      ],
      "source": [
        "history_first = model_first.fit(X_train_first,\n",
        "                                y_train_first,\n",
        "                                epochs=50,\n",
        "                                batch_size=64,\n",
        "                                validation_data=(X_test_first, y_test_first))"
      ]
    },
    {
      "cell_type": "code",
      "execution_count": 16,
      "metadata": {
        "colab": {
          "base_uri": "https://localhost:8080/",
          "height": 472
        },
        "id": "b15rtASX_lDn",
        "outputId": "49f4ac21-0704-4b02-d0a6-1c97f6d63ed7"
      },
      "outputs": [
        {
          "data": {
            "image/png": "[encoded data removed]",
            "text/plain": [
              "<Figure size 640x480 with 1 Axes>"
            ]
          },
          "metadata": {},
          "output_type": "display_data"
        }
      ],
      "source": [
        "plot_accuracy(history_first)"
      ]
    },
    {
      "cell_type": "code",
      "execution_count": 17,
      "metadata": {},
      "outputs": [
        {
          "data": {
            "image/png": "[encoded data removed]",
            "text/plain": [
              "<Figure size 640x480 with 1 Axes>"
            ]
          },
          "metadata": {},
          "output_type": "display_data"
        }
      ],
      "source": [
        "plot_loss(history_first)"
      ]
    },
    {
      "cell_type": "code",
      "execution_count": 18,
      "metadata": {
        "colab": {
          "base_uri": "https://localhost:8080/"
        },
        "id": "NWYjH5Dq_q-F",
        "outputId": "86b614ec-3c2d-404f-ff9c-49eb74f23dd5"
      },
      "outputs": [
        {
          "name": "stdout",
          "output_type": "stream",
          "text": [
            "63/63 [==============================] - 0s 6ms/step - loss: 0.9758 - accuracy: 0.4875\n",
            "Test Loss: 0.9758\n",
            "Test Accuracy: 0.4875\n"
          ]
        }
      ],
      "source": [
        "loss, accuracy = model_first.evaluate(X_test_first, y_test_first)\n",
        "print(f\"Test Loss: {loss:.4f}\")\n",
        "print(f\"Test Accuracy: {accuracy:.4f}\")"
      ]
    },
    {
      "cell_type": "code",
      "execution_count": 19,
      "metadata": {
        "colab": {
          "base_uri": "https://localhost:8080/"
        },
        "id": "vSd0KVRdmO1V",
        "outputId": "92043f59-47c4-47fe-fb99-8a0bdef6b101"
      },
      "outputs": [
        {
          "name": "stdout",
          "output_type": "stream",
          "text": [
            "63/63 [==============================] - 0s 3ms/step\n"
          ]
        }
      ],
      "source": [
        "y_pred_first = model_first.predict(X_test_first)\n",
        "y_pred_classes_first = np.argmax(y_pred_first, axis=1)\n",
        "y_true_first = np.argmax(y_test_first, axis=1)"
      ]
    },
    {
      "cell_type": "code",
      "execution_count": 20,
      "metadata": {
        "colab": {
          "base_uri": "https://localhost:8080/",
          "height": 564
        },
        "id": "tRwlgzoxmVX_",
        "outputId": "6a427fde-ae05-4d14-ab6a-92eb0fefc4dd"
      },
      "outputs": [
        {
          "data": {
            "image/png": "[encoded data removed]",
            "text/plain": [
              "<Figure size 800x600 with 2 Axes>"
            ]
          },
          "metadata": {},
          "output_type": "display_data"
        }
      ],
      "source": [
        "confusion_matrix_plot(y_true_first, y_pred_classes_first)"
      ]
    },
    {
      "cell_type": "code",
      "execution_count": 21,
      "metadata": {
        "id": "v8vvZBfK2kNL"
      },
      "outputs": [],
      "source": [
        "def bmi_category(bmi):\n",
        "    if bmi < 18.5:\n",
        "        return 'Underweight'\n",
        "    elif bmi < 25:\n",
        "        return 'Normal'\n",
        "    elif bmi < 30:\n",
        "        return 'Overweight'\n",
        "    else:\n",
        "        return 'Obese'"
      ]
    },
    {
      "cell_type": "code",
      "execution_count": 22,
      "metadata": {
        "colab": {
          "base_uri": "https://localhost:8080/",
          "height": 206
        },
        "id": "dmmbqhn5nMWg",
        "outputId": "93bb8444-a795-4266-d518-931657d3f784"
      },
      "outputs": [
        {
          "data": {
            "text/html": [
              "<div>\n",
              "<style scoped>\n",
              "    .dataframe tbody tr th:only-of-type {\n",
              "        vertical-align: middle;\n",
              "    }\n",
              "\n",
              "    .dataframe tbody tr th {\n",
              "        vertical-align: top;\n",
              "    }\n",
              "\n",
              "    .dataframe thead th {\n",
              "        text-align: right;\n",
              "    }\n",
              "</style>\n",
              "<table border=\"1\" class=\"dataframe\">\n",
              "  <thead>\n",
              "    <tr style=\"text-align: right;\">\n",
              "      <th></th>\n",
              "      <th>Smoking_Status</th>\n",
              "      <th>Weight</th>\n",
              "      <th>Height</th>\n",
              "      <th>Comorbidities</th>\n",
              "      <th>Outcome</th>\n",
              "      <th>BMI</th>\n",
              "      <th>BMI_Category</th>\n",
              "    </tr>\n",
              "  </thead>\n",
              "  <tbody>\n",
              "    <tr>\n",
              "      <th>5</th>\n",
              "      <td>Smoker</td>\n",
              "      <td>59</td>\n",
              "      <td>176</td>\n",
              "      <td>Hypertension</td>\n",
              "      <td>Recovered</td>\n",
              "      <td>19.047004</td>\n",
              "      <td>Normal</td>\n",
              "    </tr>\n",
              "    <tr>\n",
              "      <th>6</th>\n",
              "      <td>Non-Smoker</td>\n",
              "      <td>66</td>\n",
              "      <td>155</td>\n",
              "      <td>Hypertension</td>\n",
              "      <td>Recovered</td>\n",
              "      <td>27.471384</td>\n",
              "      <td>Overweight</td>\n",
              "    </tr>\n",
              "    <tr>\n",
              "      <th>10</th>\n",
              "      <td>Former Smoker</td>\n",
              "      <td>48</td>\n",
              "      <td>173</td>\n",
              "      <td>Cardiovascular Disease</td>\n",
              "      <td>Under Treatment</td>\n",
              "      <td>16.037956</td>\n",
              "      <td>Underweight</td>\n",
              "    </tr>\n",
              "    <tr>\n",
              "      <th>11</th>\n",
              "      <td>Smoker</td>\n",
              "      <td>71</td>\n",
              "      <td>160</td>\n",
              "      <td>Diabetes</td>\n",
              "      <td>Recovered</td>\n",
              "      <td>27.734375</td>\n",
              "      <td>Overweight</td>\n",
              "    </tr>\n",
              "    <tr>\n",
              "      <th>13</th>\n",
              "      <td>Non-Smoker</td>\n",
              "      <td>84</td>\n",
              "      <td>168</td>\n",
              "      <td>Hypertension</td>\n",
              "      <td>Under Treatment</td>\n",
              "      <td>29.761905</td>\n",
              "      <td>Overweight</td>\n",
              "    </tr>\n",
              "  </tbody>\n",
              "</table>\n",
              "</div>"
            ],
            "text/plain": [
              "   Smoking_Status  Weight  Height           Comorbidities          Outcome  \\\n",
              "5          Smoker      59     176            Hypertension        Recovered   \n",
              "6      Non-Smoker      66     155            Hypertension        Recovered   \n",
              "10  Former Smoker      48     173  Cardiovascular Disease  Under Treatment   \n",
              "11         Smoker      71     160                Diabetes        Recovered   \n",
              "13     Non-Smoker      84     168            Hypertension  Under Treatment   \n",
              "\n",
              "          BMI BMI_Category  \n",
              "5   19.047004       Normal  \n",
              "6   27.471384   Overweight  \n",
              "10  16.037956  Underweight  \n",
              "11  27.734375   Overweight  \n",
              "13  29.761905   Overweight  "
            ]
          },
          "execution_count": 22,
          "metadata": {},
          "output_type": "execute_result"
        }
      ],
      "source": [
        "cancer_hf = cancer[['Smoking_Status', 'Weight', 'Height', 'Comorbidities', 'Outcome']].query(\"Comorbidities == Comorbidities\")\n",
        "\n",
        "cancer_hf['BMI'] = cancer_hf['Weight'] / ((cancer_hf['Height'] / 100) ** 2)\n",
        "def bmi_category(bmi):\n",
        "    if bmi < 18.5:\n",
        "        return 'Underweight'\n",
        "    elif bmi < 25:\n",
        "        return 'Normal'\n",
        "    elif bmi < 30:\n",
        "        return 'Overweight'\n",
        "    else:\n",
        "        return 'Obese'\n",
        "\n",
        "cancer_hf['BMI_Category'] = cancer_hf['BMI'].apply(bmi_category)\n",
        "\n",
        "cancer_hf.head()"
      ]
    },
    {
      "cell_type": "code",
      "execution_count": 23,
      "metadata": {
        "id": "sRK_-khTQQAl"
      },
      "outputs": [],
      "source": [
        "cancer['Diagnosis_Date'] = pd.to_datetime(cancer['Diagnosis_Date'])\n",
        "cancer['Treatment_Start_Date'] = pd.to_datetime(cancer['Treatment_Start_Date'])\n",
        "cancer['Days_Between'] = (cancer['Treatment_Start_Date'] - cancer['Diagnosis_Date']).dt.days\n",
        "cancer['BMI'] = cancer['Weight'] / ((cancer['Height'] / 100) ** 2)\n",
        "cancer['BMI_Category'] = cancer['BMI'].apply(bmi_category)\n",
        "cancer['ratio_age_bmi'] = cancer['BMI'] / cancer['Age']\n",
        "cancer['Survived'] = cancer['Outcome'].apply(lambda x: 0 if x == 'Deceased' else 1)"
      ]
    },
    {
      "cell_type": "code",
      "execution_count": 24,
      "metadata": {
        "colab": {
          "base_uri": "https://localhost:8080/",
          "height": 243
        },
        "id": "Y-RVAiUv9KpL",
        "outputId": "c2032ab6-cd3a-42d6-df0a-eec91f189753"
      },
      "outputs": [
        {
          "data": {
            "text/html": [
              "<div>\n",
              "<style scoped>\n",
              "    .dataframe tbody tr th:only-of-type {\n",
              "        vertical-align: middle;\n",
              "    }\n",
              "\n",
              "    .dataframe tbody tr th {\n",
              "        vertical-align: top;\n",
              "    }\n",
              "\n",
              "    .dataframe thead th {\n",
              "        text-align: right;\n",
              "    }\n",
              "</style>\n",
              "<table border=\"1\" class=\"dataframe\">\n",
              "  <thead>\n",
              "    <tr style=\"text-align: right;\">\n",
              "      <th></th>\n",
              "      <th>Age</th>\n",
              "      <th>Cancer_Type</th>\n",
              "      <th>Cancer_Stage</th>\n",
              "      <th>Treatment_Type</th>\n",
              "      <th>Outcome</th>\n",
              "      <th>Smoking_Status</th>\n",
              "      <th>Comorbidities</th>\n",
              "      <th>Weight</th>\n",
              "      <th>Height</th>\n",
              "      <th>Days_Between</th>\n",
              "      <th>BMI</th>\n",
              "      <th>BMI_Category</th>\n",
              "      <th>ratio_age_bmi</th>\n",
              "      <th>Survived</th>\n",
              "    </tr>\n",
              "  </thead>\n",
              "  <tbody>\n",
              "    <tr>\n",
              "      <th>0</th>\n",
              "      <td>69</td>\n",
              "      <td>Liver</td>\n",
              "      <td>II</td>\n",
              "      <td>Radiation</td>\n",
              "      <td>Recovered</td>\n",
              "      <td>Non-Smoker</td>\n",
              "      <td>Hypertension</td>\n",
              "      <td>61</td>\n",
              "      <td>157</td>\n",
              "      <td>4</td>\n",
              "      <td>24.747454</td>\n",
              "      <td>Normal</td>\n",
              "      <td>0.358659</td>\n",
              "      <td>1</td>\n",
              "    </tr>\n",
              "    <tr>\n",
              "      <th>1</th>\n",
              "      <td>32</td>\n",
              "      <td>Leukemia</td>\n",
              "      <td>III</td>\n",
              "      <td>Surgery</td>\n",
              "      <td>Recovered</td>\n",
              "      <td>Smoker</td>\n",
              "      <td>Hypertension</td>\n",
              "      <td>80</td>\n",
              "      <td>175</td>\n",
              "      <td>26</td>\n",
              "      <td>26.122449</td>\n",
              "      <td>Overweight</td>\n",
              "      <td>0.816327</td>\n",
              "      <td>1</td>\n",
              "    </tr>\n",
              "    <tr>\n",
              "      <th>2</th>\n",
              "      <td>89</td>\n",
              "      <td>Liver</td>\n",
              "      <td>III</td>\n",
              "      <td>Radiation</td>\n",
              "      <td>Under Treatment</td>\n",
              "      <td>Non-Smoker</td>\n",
              "      <td>Hypertension</td>\n",
              "      <td>50</td>\n",
              "      <td>175</td>\n",
              "      <td>171</td>\n",
              "      <td>16.326531</td>\n",
              "      <td>Underweight</td>\n",
              "      <td>0.183444</td>\n",
              "      <td>1</td>\n",
              "    </tr>\n",
              "    <tr>\n",
              "      <th>3</th>\n",
              "      <td>78</td>\n",
              "      <td>Lung</td>\n",
              "      <td>III</td>\n",
              "      <td>Radiation</td>\n",
              "      <td>Recovered</td>\n",
              "      <td>Former Smoker</td>\n",
              "      <td>Hypertension</td>\n",
              "      <td>44</td>\n",
              "      <td>155</td>\n",
              "      <td>37</td>\n",
              "      <td>18.314256</td>\n",
              "      <td>Underweight</td>\n",
              "      <td>0.234798</td>\n",
              "      <td>1</td>\n",
              "    </tr>\n",
              "    <tr>\n",
              "      <th>4</th>\n",
              "      <td>38</td>\n",
              "      <td>Pancreatic</td>\n",
              "      <td>II</td>\n",
              "      <td>Chemotherapy</td>\n",
              "      <td>Recovered</td>\n",
              "      <td>Former Smoker</td>\n",
              "      <td>Hypertension</td>\n",
              "      <td>101</td>\n",
              "      <td>160</td>\n",
              "      <td>88</td>\n",
              "      <td>39.453125</td>\n",
              "      <td>Obese</td>\n",
              "      <td>1.038240</td>\n",
              "      <td>1</td>\n",
              "    </tr>\n",
              "  </tbody>\n",
              "</table>\n",
              "</div>"
            ],
            "text/plain": [
              "   Age Cancer_Type Cancer_Stage Treatment_Type          Outcome  \\\n",
              "0   69       Liver           II      Radiation        Recovered   \n",
              "1   32    Leukemia          III        Surgery        Recovered   \n",
              "2   89       Liver          III      Radiation  Under Treatment   \n",
              "3   78        Lung          III      Radiation        Recovered   \n",
              "4   38  Pancreatic           II   Chemotherapy        Recovered   \n",
              "\n",
              "  Smoking_Status Comorbidities  Weight  Height  Days_Between        BMI  \\\n",
              "0     Non-Smoker  Hypertension      61     157             4  24.747454   \n",
              "1         Smoker  Hypertension      80     175            26  26.122449   \n",
              "2     Non-Smoker  Hypertension      50     175           171  16.326531   \n",
              "3  Former Smoker  Hypertension      44     155            37  18.314256   \n",
              "4  Former Smoker  Hypertension     101     160            88  39.453125   \n",
              "\n",
              "  BMI_Category  ratio_age_bmi  Survived  \n",
              "0       Normal       0.358659         1  \n",
              "1   Overweight       0.816327         1  \n",
              "2  Underweight       0.183444         1  \n",
              "3  Underweight       0.234798         1  \n",
              "4        Obese       1.038240         1  "
            ]
          },
          "execution_count": 24,
          "metadata": {},
          "output_type": "execute_result"
        }
      ],
      "source": [
        "cancer_clean = cancer.drop(['Patient_ID', 'Death_Date', 'Cause_of_Death',\n",
        "                            'Diagnosis_Date', 'Treatment_Start_Date',\n",
        "                            'Primary_Physician', 'Emirate', 'Ethnicity',\n",
        "                            'Gender', 'Nationality', 'Hospital'], axis=1)\n",
        "\n",
        "cancer_clean['Comorbidities'] = cancer_clean.groupby(['BMI_Category', 'Smoking_Status', 'Outcome'])['Comorbidities'].transform(lambda x: x.fillna(x.mode()[0]))\n",
        "cancer_clean.head()"
      ]
    },
    {
      "cell_type": "code",
      "execution_count": 25,
      "metadata": {
        "colab": {
          "base_uri": "https://localhost:8080/"
        },
        "id": "0Jx3gzvBRulK",
        "outputId": "2c80078a-e3fd-4f6f-a2f7-38020411dd54"
      },
      "outputs": [
        {
          "name": "stdout",
          "output_type": "stream",
          "text": [
            "<class 'pandas.core.frame.DataFrame'>\n",
            "RangeIndex: 10000 entries, 0 to 9999\n",
            "Data columns (total 14 columns):\n",
            " #   Column          Non-Null Count  Dtype  \n",
            "---  ------          --------------  -----  \n",
            " 0   Age             10000 non-null  int64  \n",
            " 1   Cancer_Type     10000 non-null  object \n",
            " 2   Cancer_Stage    10000 non-null  object \n",
            " 3   Treatment_Type  10000 non-null  object \n",
            " 4   Outcome         10000 non-null  object \n",
            " 5   Smoking_Status  10000 non-null  object \n",
            " 6   Comorbidities   10000 non-null  object \n",
            " 7   Weight          10000 non-null  int64  \n",
            " 8   Height          10000 non-null  int64  \n",
            " 9   Days_Between    10000 non-null  int64  \n",
            " 10  BMI             10000 non-null  float64\n",
            " 11  BMI_Category    10000 non-null  object \n",
            " 12  ratio_age_bmi   10000 non-null  float64\n",
            " 13  Survived        10000 non-null  int64  \n",
            "dtypes: float64(2), int64(5), object(7)\n",
            "memory usage: 1.1+ MB\n"
          ]
        }
      ],
      "source": [
        "cancer_clean.info()"
      ]
    },
    {
      "cell_type": "code",
      "execution_count": 26,
      "metadata": {
        "colab": {
          "base_uri": "https://localhost:8080/"
        },
        "id": "Ert0NVFlo9JS",
        "outputId": "38f4a3cc-f9b1-40f8-9905-c3b83019f4f6"
      },
      "outputs": [
        {
          "name": "stdout",
          "output_type": "stream",
          "text": [
            "<class 'pandas.core.frame.DataFrame'>\n",
            "RangeIndex: 10000 entries, 0 to 9999\n",
            "Data columns (total 14 columns):\n",
            " #   Column          Non-Null Count  Dtype  \n",
            "---  ------          --------------  -----  \n",
            " 0   Age             10000 non-null  float64\n",
            " 1   Cancer_Type     10000 non-null  int32  \n",
            " 2   Cancer_Stage    10000 non-null  int32  \n",
            " 3   Treatment_Type  10000 non-null  int32  \n",
            " 4   Outcome         10000 non-null  int32  \n",
            " 5   Smoking_Status  10000 non-null  int32  \n",
            " 6   Comorbidities   10000 non-null  int32  \n",
            " 7   Weight          10000 non-null  float64\n",
            " 8   Height          10000 non-null  float64\n",
            " 9   Days_Between    10000 non-null  float64\n",
            " 10  BMI             10000 non-null  float64\n",
            " 11  BMI_Category    10000 non-null  int32  \n",
            " 12  ratio_age_bmi   10000 non-null  float64\n",
            " 13  Survived        10000 non-null  int64  \n",
            "dtypes: float64(6), int32(7), int64(1)\n",
            "memory usage: 820.4 KB\n"
          ]
        }
      ],
      "source": [
        "numeric_columns = ['Age', 'Weight', 'Height', 'Days_Between', 'BMI', 'ratio_age_bmi']\n",
        "\n",
        "scaler = StandardScaler()\n",
        "\n",
        "cancer_clean[numeric_columns] = scaler.fit_transform(cancer_clean[numeric_columns])\n",
        "\n",
        "categorical_cols = cancer_clean.select_dtypes(include=['object']).columns\n",
        "label_encoder = LabelEncoder()\n",
        "for col in categorical_cols:\n",
        "    cancer_clean[col] = label_encoder.fit_transform(cancer_clean[col])\n",
        "\n",
        "cancer_clean.info()"
      ]
    },
    {
      "cell_type": "code",
      "execution_count": 27,
      "metadata": {
        "colab": {
          "base_uri": "https://localhost:8080/",
          "height": 226
        },
        "id": "kYXfDs4ppDjX",
        "outputId": "033543c9-dfed-4061-8b46-a99dc254c27b"
      },
      "outputs": [
        {
          "data": {
            "text/html": [
              "<div>\n",
              "<style scoped>\n",
              "    .dataframe tbody tr th:only-of-type {\n",
              "        vertical-align: middle;\n",
              "    }\n",
              "\n",
              "    .dataframe tbody tr th {\n",
              "        vertical-align: top;\n",
              "    }\n",
              "\n",
              "    .dataframe thead th {\n",
              "        text-align: right;\n",
              "    }\n",
              "</style>\n",
              "<table border=\"1\" class=\"dataframe\">\n",
              "  <thead>\n",
              "    <tr style=\"text-align: right;\">\n",
              "      <th></th>\n",
              "      <th>Age</th>\n",
              "      <th>Cancer_Type</th>\n",
              "      <th>Cancer_Stage</th>\n",
              "      <th>Treatment_Type</th>\n",
              "      <th>Outcome</th>\n",
              "      <th>Smoking_Status</th>\n",
              "      <th>Comorbidities</th>\n",
              "      <th>Weight</th>\n",
              "      <th>Height</th>\n",
              "      <th>Days_Between</th>\n",
              "      <th>BMI</th>\n",
              "      <th>BMI_Category</th>\n",
              "      <th>ratio_age_bmi</th>\n",
              "      <th>Survived</th>\n",
              "    </tr>\n",
              "  </thead>\n",
              "  <tbody>\n",
              "    <tr>\n",
              "      <th>0</th>\n",
              "      <td>0.744849</td>\n",
              "      <td>3</td>\n",
              "      <td>1</td>\n",
              "      <td>2</td>\n",
              "      <td>1</td>\n",
              "      <td>1</td>\n",
              "      <td>2</td>\n",
              "      <td>-0.572573</td>\n",
              "      <td>-1.226214</td>\n",
              "      <td>-1.631970</td>\n",
              "      <td>0.040363</td>\n",
              "      <td>0</td>\n",
              "      <td>-0.625341</td>\n",
              "      <td>1</td>\n",
              "    </tr>\n",
              "    <tr>\n",
              "      <th>1</th>\n",
              "      <td>-1.037743</td>\n",
              "      <td>2</td>\n",
              "      <td>2</td>\n",
              "      <td>3</td>\n",
              "      <td>1</td>\n",
              "      <td>2</td>\n",
              "      <td>2</td>\n",
              "      <td>0.699812</td>\n",
              "      <td>0.561342</td>\n",
              "      <td>-1.211295</td>\n",
              "      <td>0.268091</td>\n",
              "      <td>2</td>\n",
              "      <td>0.840568</td>\n",
              "      <td>1</td>\n",
              "    </tr>\n",
              "    <tr>\n",
              "      <th>2</th>\n",
              "      <td>1.708413</td>\n",
              "      <td>3</td>\n",
              "      <td>2</td>\n",
              "      <td>2</td>\n",
              "      <td>2</td>\n",
              "      <td>1</td>\n",
              "      <td>2</td>\n",
              "      <td>-1.309217</td>\n",
              "      <td>0.561342</td>\n",
              "      <td>1.561335</td>\n",
              "      <td>-1.354313</td>\n",
              "      <td>3</td>\n",
              "      <td>-1.186553</td>\n",
              "      <td>1</td>\n",
              "    </tr>\n",
              "    <tr>\n",
              "      <th>3</th>\n",
              "      <td>1.178453</td>\n",
              "      <td>4</td>\n",
              "      <td>2</td>\n",
              "      <td>2</td>\n",
              "      <td>1</td>\n",
              "      <td>0</td>\n",
              "      <td>2</td>\n",
              "      <td>-1.711022</td>\n",
              "      <td>-1.424831</td>\n",
              "      <td>-1.000958</td>\n",
              "      <td>-1.025105</td>\n",
              "      <td>3</td>\n",
              "      <td>-1.022066</td>\n",
              "      <td>1</td>\n",
              "    </tr>\n",
              "    <tr>\n",
              "      <th>4</th>\n",
              "      <td>-0.748674</td>\n",
              "      <td>6</td>\n",
              "      <td>1</td>\n",
              "      <td>0</td>\n",
              "      <td>1</td>\n",
              "      <td>0</td>\n",
              "      <td>2</td>\n",
              "      <td>2.106131</td>\n",
              "      <td>-0.928288</td>\n",
              "      <td>-0.025757</td>\n",
              "      <td>2.475922</td>\n",
              "      <td>1</td>\n",
              "      <td>1.551357</td>\n",
              "      <td>1</td>\n",
              "    </tr>\n",
              "  </tbody>\n",
              "</table>\n",
              "</div>"
            ],
            "text/plain": [
              "        Age  Cancer_Type  Cancer_Stage  Treatment_Type  Outcome  \\\n",
              "0  0.744849            3             1               2        1   \n",
              "1 -1.037743            2             2               3        1   \n",
              "2  1.708413            3             2               2        2   \n",
              "3  1.178453            4             2               2        1   \n",
              "4 -0.748674            6             1               0        1   \n",
              "\n",
              "   Smoking_Status  Comorbidities    Weight    Height  Days_Between       BMI  \\\n",
              "0               1              2 -0.572573 -1.226214     -1.631970  0.040363   \n",
              "1               2              2  0.699812  0.561342     -1.211295  0.268091   \n",
              "2               1              2 -1.309217  0.561342      1.561335 -1.354313   \n",
              "3               0              2 -1.711022 -1.424831     -1.000958 -1.025105   \n",
              "4               0              2  2.106131 -0.928288     -0.025757  2.475922   \n",
              "\n",
              "   BMI_Category  ratio_age_bmi  Survived  \n",
              "0             0      -0.625341         1  \n",
              "1             2       0.840568         1  \n",
              "2             3      -1.186553         1  \n",
              "3             3      -1.022066         1  \n",
              "4             1       1.551357         1  "
            ]
          },
          "execution_count": 27,
          "metadata": {},
          "output_type": "execute_result"
        }
      ],
      "source": [
        "cancer_clean.head()"
      ]
    },
    {
      "cell_type": "code",
      "execution_count": 28,
      "metadata": {
        "colab": {
          "base_uri": "https://localhost:8080/",
          "height": 209
        },
        "id": "J2gZxmPRH0yE",
        "outputId": "e12a3dcd-5277-4676-dc60-541c23c8fa7c"
      },
      "outputs": [
        {
          "data": {
            "text/plain": [
              "Outcome\n",
              "1    4931\n",
              "2    4077\n",
              "0     992\n",
              "Name: count, dtype: int64"
            ]
          },
          "execution_count": 28,
          "metadata": {},
          "output_type": "execute_result"
        }
      ],
      "source": [
        "X = cancer_clean.drop('Outcome', axis=1)\n",
        "y = cancer_clean['Outcome']\n",
        "\n",
        "y.value_counts()"
      ]
    },
    {
      "cell_type": "code",
      "execution_count": 29,
      "metadata": {
        "colab": {
          "base_uri": "https://localhost:8080/"
        },
        "id": "uefoMRUrw-fH",
        "outputId": "7174d751-d37a-44fe-ca84-423feb1077f5"
      },
      "outputs": [
        {
          "name": "stdout",
          "output_type": "stream",
          "text": [
            "Outcome\n",
            "1    4931\n",
            "2    4077\n",
            "0     992\n",
            "Name: count, dtype: int64\n"
          ]
        }
      ],
      "source": [
        "y_second_cat = to_categorical(y, num_classes=3)\n",
        "\n",
        "print(pd.Series(y).value_counts())"
      ]
    },
    {
      "cell_type": "code",
      "execution_count": 30,
      "metadata": {
        "id": "n-FOnsimqB_s"
      },
      "outputs": [],
      "source": [
        "X_train_second, X_test_second, y_train_second, y_test_second = train_test_split(X, y_second_cat, test_size=0.2, random_state=0, stratify=y_second_cat)"
      ]
    },
    {
      "cell_type": "code",
      "execution_count": 31,
      "metadata": {
        "colab": {
          "base_uri": "https://localhost:8080/"
        },
        "id": "xqAHsNEuJwuv",
        "outputId": "e225e1c4-a458-497c-c439-9d1ebe367a4f"
      },
      "outputs": [],
      "source": [
        "model_second = build_model(input_dim=(X_train_second.shape[1],))"
      ]
    },
    {
      "cell_type": "code",
      "execution_count": 32,
      "metadata": {
        "colab": {
          "base_uri": "https://localhost:8080/"
        },
        "id": "rLbwa51lHkfX",
        "outputId": "ad0fb6f3-84d2-48d4-afd3-3a5149e1ccfa"
      },
      "outputs": [
        {
          "name": "stdout",
          "output_type": "stream",
          "text": [
            "Epoch 1/50\n",
            "125/125 [==============================] - 3s 14ms/step - loss: 1.1107 - accuracy: 0.4674 - val_loss: 0.8388 - val_accuracy: 0.4810\n",
            "Epoch 2/50\n",
            "125/125 [==============================] - 1s 12ms/step - loss: 0.7447 - accuracy: 0.5570 - val_loss: 0.6550 - val_accuracy: 0.5740\n",
            "Epoch 3/50\n",
            "125/125 [==============================] - 1s 12ms/step - loss: 0.6721 - accuracy: 0.5639 - val_loss: 0.6327 - val_accuracy: 0.5750\n",
            "Epoch 4/50\n",
            "125/125 [==============================] - 2s 13ms/step - loss: 0.6499 - accuracy: 0.5706 - val_loss: 0.6271 - val_accuracy: 0.5785\n",
            "Epoch 5/50\n",
            "125/125 [==============================] - 1s 12ms/step - loss: 0.6498 - accuracy: 0.5756 - val_loss: 0.6278 - val_accuracy: 0.5685\n",
            "Epoch 6/50\n",
            "125/125 [==============================] - 2s 14ms/step - loss: 0.6344 - accuracy: 0.5765 - val_loss: 0.6272 - val_accuracy: 0.5725\n",
            "Epoch 7/50\n",
            "125/125 [==============================] - 1s 11ms/step - loss: 0.6312 - accuracy: 0.5711 - val_loss: 0.6251 - val_accuracy: 0.5800\n",
            "Epoch 8/50\n",
            "125/125 [==============================] - 2s 12ms/step - loss: 0.6265 - accuracy: 0.5935 - val_loss: 0.6229 - val_accuracy: 0.5860\n",
            "Epoch 9/50\n",
            "125/125 [==============================] - 1s 10ms/step - loss: 0.6237 - accuracy: 0.5815 - val_loss: 0.6234 - val_accuracy: 0.5785\n",
            "Epoch 10/50\n",
            "125/125 [==============================] - 1s 10ms/step - loss: 0.6258 - accuracy: 0.5863 - val_loss: 0.6247 - val_accuracy: 0.5915\n",
            "Epoch 11/50\n",
            "125/125 [==============================] - 1s 11ms/step - loss: 0.6219 - accuracy: 0.5907 - val_loss: 0.6229 - val_accuracy: 0.5750\n",
            "Epoch 12/50\n",
            "125/125 [==============================] - 1s 11ms/step - loss: 0.6208 - accuracy: 0.6000 - val_loss: 0.6259 - val_accuracy: 0.5610\n",
            "Epoch 13/50\n",
            "125/125 [==============================] - 1s 10ms/step - loss: 0.6244 - accuracy: 0.5880 - val_loss: 0.6248 - val_accuracy: 0.5660\n",
            "Epoch 14/50\n",
            "125/125 [==============================] - 1s 11ms/step - loss: 0.6210 - accuracy: 0.5911 - val_loss: 0.6242 - val_accuracy: 0.5775\n",
            "Epoch 15/50\n",
            "125/125 [==============================] - 1s 10ms/step - loss: 0.6202 - accuracy: 0.5880 - val_loss: 0.6240 - val_accuracy: 0.5785\n",
            "Epoch 16/50\n",
            "125/125 [==============================] - 1s 10ms/step - loss: 0.6217 - accuracy: 0.5893 - val_loss: 0.6228 - val_accuracy: 0.5805\n",
            "Epoch 17/50\n",
            "125/125 [==============================] - 1s 10ms/step - loss: 0.6179 - accuracy: 0.6037 - val_loss: 0.6256 - val_accuracy: 0.5850\n",
            "Epoch 18/50\n",
            "125/125 [==============================] - 1s 10ms/step - loss: 0.6188 - accuracy: 0.5932 - val_loss: 0.6245 - val_accuracy: 0.5795\n",
            "Epoch 19/50\n",
            "125/125 [==============================] - 1s 11ms/step - loss: 0.6187 - accuracy: 0.5975 - val_loss: 0.6250 - val_accuracy: 0.5895\n",
            "Epoch 20/50\n",
            "125/125 [==============================] - 1s 11ms/step - loss: 0.6184 - accuracy: 0.5934 - val_loss: 0.6235 - val_accuracy: 0.5800\n",
            "Epoch 21/50\n",
            "125/125 [==============================] - 1s 10ms/step - loss: 0.6166 - accuracy: 0.5944 - val_loss: 0.6237 - val_accuracy: 0.5640\n",
            "Epoch 22/50\n",
            "125/125 [==============================] - 1s 11ms/step - loss: 0.6188 - accuracy: 0.5947 - val_loss: 0.6267 - val_accuracy: 0.5635\n",
            "Epoch 23/50\n",
            "125/125 [==============================] - 1s 11ms/step - loss: 0.6176 - accuracy: 0.6009 - val_loss: 0.6240 - val_accuracy: 0.5775\n",
            "Epoch 24/50\n",
            "125/125 [==============================] - 1s 11ms/step - loss: 0.6187 - accuracy: 0.5979 - val_loss: 0.6252 - val_accuracy: 0.5715\n",
            "Epoch 25/50\n",
            "125/125 [==============================] - 1s 11ms/step - loss: 0.6172 - accuracy: 0.5989 - val_loss: 0.6239 - val_accuracy: 0.5750\n",
            "Epoch 26/50\n",
            "125/125 [==============================] - 1s 11ms/step - loss: 0.6173 - accuracy: 0.6021 - val_loss: 0.6246 - val_accuracy: 0.5835\n",
            "Epoch 27/50\n",
            "125/125 [==============================] - 1s 11ms/step - loss: 0.6339 - accuracy: 0.6035 - val_loss: 0.6264 - val_accuracy: 0.5725\n",
            "Epoch 28/50\n",
            "125/125 [==============================] - 1s 11ms/step - loss: 0.6191 - accuracy: 0.6040 - val_loss: 0.6272 - val_accuracy: 0.5755\n",
            "Epoch 29/50\n",
            "125/125 [==============================] - 1s 10ms/step - loss: 0.6159 - accuracy: 0.6094 - val_loss: 0.6242 - val_accuracy: 0.5875\n",
            "Epoch 30/50\n",
            "125/125 [==============================] - 2s 14ms/step - loss: 0.6160 - accuracy: 0.5999 - val_loss: 0.6242 - val_accuracy: 0.5760\n",
            "Epoch 31/50\n",
            "125/125 [==============================] - 2s 14ms/step - loss: 0.6135 - accuracy: 0.6085 - val_loss: 0.6286 - val_accuracy: 0.5725\n",
            "Epoch 32/50\n",
            "125/125 [==============================] - 1s 10ms/step - loss: 0.6127 - accuracy: 0.6075 - val_loss: 0.6316 - val_accuracy: 0.5825\n",
            "Epoch 33/50\n",
            "125/125 [==============================] - 1s 11ms/step - loss: 0.6113 - accuracy: 0.6114 - val_loss: 0.6300 - val_accuracy: 0.5815\n",
            "Epoch 34/50\n",
            "125/125 [==============================] - 1s 11ms/step - loss: 0.6122 - accuracy: 0.6145 - val_loss: 0.6288 - val_accuracy: 0.5840\n",
            "Epoch 35/50\n",
            "125/125 [==============================] - 1s 11ms/step - loss: 0.6111 - accuracy: 0.6110 - val_loss: 0.6296 - val_accuracy: 0.5855\n",
            "Epoch 36/50\n",
            "125/125 [==============================] - 1s 10ms/step - loss: 0.6117 - accuracy: 0.6099 - val_loss: 0.6293 - val_accuracy: 0.5735\n",
            "Epoch 37/50\n",
            "125/125 [==============================] - 2s 12ms/step - loss: 0.6113 - accuracy: 0.6125 - val_loss: 0.6259 - val_accuracy: 0.5835\n",
            "Epoch 38/50\n",
            "125/125 [==============================] - 1s 10ms/step - loss: 0.6081 - accuracy: 0.6210 - val_loss: 0.6333 - val_accuracy: 0.5755\n",
            "Epoch 39/50\n",
            "125/125 [==============================] - 1s 11ms/step - loss: 0.6092 - accuracy: 0.6198 - val_loss: 0.6307 - val_accuracy: 0.5795\n",
            "Epoch 40/50\n",
            "125/125 [==============================] - 1s 11ms/step - loss: 0.6083 - accuracy: 0.6175 - val_loss: 0.6325 - val_accuracy: 0.5675\n",
            "Epoch 41/50\n",
            "125/125 [==============================] - 1s 11ms/step - loss: 0.6203 - accuracy: 0.6097 - val_loss: 0.6350 - val_accuracy: 0.5525\n",
            "Epoch 42/50\n",
            "125/125 [==============================] - 1s 11ms/step - loss: 0.6110 - accuracy: 0.6164 - val_loss: 0.6390 - val_accuracy: 0.5755\n",
            "Epoch 43/50\n",
            "125/125 [==============================] - 2s 13ms/step - loss: 0.6064 - accuracy: 0.6265 - val_loss: 0.6341 - val_accuracy: 0.5630\n",
            "Epoch 44/50\n",
            "125/125 [==============================] - 1s 12ms/step - loss: 0.6148 - accuracy: 0.6149 - val_loss: 0.6346 - val_accuracy: 0.5765\n",
            "Epoch 45/50\n",
            "125/125 [==============================] - 1s 11ms/step - loss: 0.6070 - accuracy: 0.6235 - val_loss: 0.6346 - val_accuracy: 0.5530\n",
            "Epoch 46/50\n",
            "125/125 [==============================] - 1s 12ms/step - loss: 0.6071 - accuracy: 0.6259 - val_loss: 0.6405 - val_accuracy: 0.5565\n",
            "Epoch 47/50\n",
            "125/125 [==============================] - 2s 12ms/step - loss: 0.6153 - accuracy: 0.6170 - val_loss: 0.6323 - val_accuracy: 0.5780\n",
            "Epoch 48/50\n",
            "125/125 [==============================] - 1s 10ms/step - loss: 0.6051 - accuracy: 0.6236 - val_loss: 0.6308 - val_accuracy: 0.5815\n",
            "Epoch 49/50\n",
            "125/125 [==============================] - 1s 11ms/step - loss: 0.6011 - accuracy: 0.6246 - val_loss: 0.6411 - val_accuracy: 0.5700\n",
            "Epoch 50/50\n",
            "125/125 [==============================] - 1s 11ms/step - loss: 0.6004 - accuracy: 0.6280 - val_loss: 0.6427 - val_accuracy: 0.5610\n"
          ]
        }
      ],
      "source": [
        "history_second = model_second.fit(X_train_second,\n",
        "                                  y_train_second,\n",
        "                                  epochs=50,\n",
        "                                  batch_size=64,\n",
        "                                  validation_data=(X_test_second, y_test_second))"
      ]
    },
    {
      "cell_type": "code",
      "execution_count": 33,
      "metadata": {
        "colab": {
          "base_uri": "https://localhost:8080/",
          "height": 472
        },
        "id": "uT4Mn7jcIgG1",
        "outputId": "87bdc5fe-0fe7-4cce-a06b-1a07c2dd557a"
      },
      "outputs": [
        {
          "data": {
            "image/png": "[encoded data removed]",
            "text/plain": [
              "<Figure size 640x480 with 1 Axes>"
            ]
          },
          "metadata": {},
          "output_type": "display_data"
        }
      ],
      "source": [
        "plot_accuracy(history_second)"
      ]
    },
    {
      "cell_type": "code",
      "execution_count": 34,
      "metadata": {},
      "outputs": [
        {
          "data": {
            "image/png": "[encoded data removed]",
            "text/plain": [
              "<Figure size 640x480 with 1 Axes>"
            ]
          },
          "metadata": {},
          "output_type": "display_data"
        }
      ],
      "source": [
        "plot_loss(history_first)"
      ]
    },
    {
      "cell_type": "code",
      "execution_count": 35,
      "metadata": {
        "colab": {
          "base_uri": "https://localhost:8080/"
        },
        "id": "DUt4ogA-KUuV",
        "outputId": "077df339-fc2d-48b7-87f3-9a12537aadfe"
      },
      "outputs": [
        {
          "name": "stdout",
          "output_type": "stream",
          "text": [
            "63/63 [==============================] - 0s 6ms/step - loss: 0.6427 - accuracy: 0.5610\n",
            "Test Loss: 0.6427\n",
            "Test Accuracy: 0.5610\n"
          ]
        }
      ],
      "source": [
        "loss, accuracy = model_second.evaluate(X_test_second, y_test_second)\n",
        "print(f\"Test Loss: {loss:.4f}\")\n",
        "print(f\"Test Accuracy: {accuracy:.4f}\")"
      ]
    },
    {
      "cell_type": "code",
      "execution_count": 36,
      "metadata": {
        "colab": {
          "base_uri": "https://localhost:8080/"
        },
        "id": "qjgwO3zKKaZY",
        "outputId": "d23491b6-af56-4ecd-93b1-91d9034f7fdc"
      },
      "outputs": [
        {
          "name": "stdout",
          "output_type": "stream",
          "text": [
            "63/63 [==============================] - 0s 4ms/step\n"
          ]
        }
      ],
      "source": [
        "y_pred_second = model_second.predict(X_test_second)\n",
        "y_pred_classes_second = np.argmax(y_pred_second, axis=1)\n",
        "y_true_second = np.argmax(y_test_second, axis=1)"
      ]
    },
    {
      "cell_type": "code",
      "execution_count": 37,
      "metadata": {
        "colab": {
          "base_uri": "https://localhost:8080/",
          "height": 564
        },
        "id": "20dq4uuGsUsE",
        "outputId": "8a3d270c-e8e5-461c-8c6a-fbe961fce66f"
      },
      "outputs": [
        {
          "data": {
            "image/png": "[encoded data removed]",
            "text/plain": [
              "<Figure size 800x600 with 2 Axes>"
            ]
          },
          "metadata": {},
          "output_type": "display_data"
        }
      ],
      "source": [
        "confusion_matrix_plot(y_true_second, y_pred_classes_second)"
      ]
    },
    {
      "cell_type": "code",
      "execution_count": 38,
      "metadata": {
        "colab": {
          "base_uri": "https://localhost:8080/",
          "height": 209
        },
        "id": "nluM8Vq3UeLD",
        "outputId": "77c5ced4-3b1b-44b3-cfc9-dc91461fe806"
      },
      "outputs": [
        {
          "data": {
            "text/plain": [
              "Outcome\n",
              "1    4931\n",
              "2    4931\n",
              "0    4931\n",
              "Name: count, dtype: int64"
            ]
          },
          "execution_count": 38,
          "metadata": {},
          "output_type": "execute_result"
        }
      ],
      "source": [
        "smote = SMOTE(random_state=42)\n",
        "X_resampled, y_resampled = smote.fit_resample(X, y)\n",
        "\n",
        "y_resampled.value_counts()"
      ]
    },
    {
      "cell_type": "code",
      "execution_count": 39,
      "metadata": {
        "colab": {
          "base_uri": "https://localhost:8080/"
        },
        "id": "hSdNhmp_wE_6",
        "outputId": "76d14eeb-0677-47a5-c25b-f28037fe8eb4"
      },
      "outputs": [
        {
          "name": "stdout",
          "output_type": "stream",
          "text": [
            "Outcome\n",
            "1    4931\n",
            "2    4931\n",
            "0    4931\n",
            "Name: count, dtype: int64\n"
          ]
        }
      ],
      "source": [
        "y_resampled_cat = to_categorical(y_resampled, num_classes=3)\n",
        "\n",
        "print(pd.Series(y_resampled).value_counts())"
      ]
    },
    {
      "cell_type": "code",
      "execution_count": 40,
      "metadata": {
        "id": "qCSP2He2s2NJ"
      },
      "outputs": [],
      "source": [
        "X_train_third, X_test_third, y_train_third, y_test_third = train_test_split(X_resampled, y_resampled_cat, test_size=0.2, random_state=0, stratify=y_resampled_cat)"
      ]
    },
    {
      "cell_type": "code",
      "execution_count": 41,
      "metadata": {
        "id": "MWtzf9e4L-E0"
      },
      "outputs": [],
      "source": [
        "model_third = build_model(input_dim=(X_train_third.shape[1],))"
      ]
    },
    {
      "cell_type": "code",
      "execution_count": 42,
      "metadata": {
        "colab": {
          "base_uri": "https://localhost:8080/"
        },
        "id": "en3zInu8MA9e",
        "outputId": "7b84eb35-b5e2-49ca-8c8e-9d8c4a45ae41"
      },
      "outputs": [
        {
          "name": "stdout",
          "output_type": "stream",
          "text": [
            "Epoch 1/50\n",
            "185/185 [==============================] - 4s 13ms/step - loss: 0.7029 - accuracy: 0.6244 - val_loss: 0.6108 - val_accuracy: 0.6499\n",
            "Epoch 2/50\n",
            "185/185 [==============================] - 2s 12ms/step - loss: 0.5029 - accuracy: 0.6727 - val_loss: 0.4640 - val_accuracy: 0.6749\n",
            "Epoch 3/50\n",
            "185/185 [==============================] - 2s 13ms/step - loss: 0.4806 - accuracy: 0.6735 - val_loss: 0.4632 - val_accuracy: 0.6722\n",
            "Epoch 4/50\n",
            "185/185 [==============================] - 2s 13ms/step - loss: 0.4732 - accuracy: 0.6753 - val_loss: 0.4634 - val_accuracy: 0.6796\n",
            "Epoch 5/50\n",
            "185/185 [==============================] - 4s 20ms/step - loss: 0.4685 - accuracy: 0.6788 - val_loss: 0.4641 - val_accuracy: 0.6749\n",
            "Epoch 6/50\n",
            "185/185 [==============================] - 3s 18ms/step - loss: 0.4666 - accuracy: 0.6681 - val_loss: 0.4618 - val_accuracy: 0.6776\n",
            "Epoch 7/50\n",
            "185/185 [==============================] - 3s 15ms/step - loss: 0.4649 - accuracy: 0.6777 - val_loss: 0.4627 - val_accuracy: 0.6877\n",
            "Epoch 8/50\n",
            "185/185 [==============================] - 2s 12ms/step - loss: 0.4637 - accuracy: 0.6813 - val_loss: 0.4646 - val_accuracy: 0.6712\n",
            "Epoch 9/50\n",
            "185/185 [==============================] - 2s 12ms/step - loss: 0.4635 - accuracy: 0.6851 - val_loss: 0.4644 - val_accuracy: 0.6695\n",
            "Epoch 10/50\n",
            "185/185 [==============================] - 2s 12ms/step - loss: 0.4636 - accuracy: 0.6800 - val_loss: 0.4631 - val_accuracy: 0.6746\n",
            "Epoch 11/50\n",
            "185/185 [==============================] - 2s 13ms/step - loss: 0.4621 - accuracy: 0.6821 - val_loss: 0.4637 - val_accuracy: 0.6685\n",
            "Epoch 12/50\n",
            "185/185 [==============================] - 2s 12ms/step - loss: 0.4622 - accuracy: 0.6812 - val_loss: 0.4638 - val_accuracy: 0.6688\n",
            "Epoch 13/50\n",
            "185/185 [==============================] - 2s 12ms/step - loss: 0.4613 - accuracy: 0.6920 - val_loss: 0.4655 - val_accuracy: 0.6793\n",
            "Epoch 14/50\n",
            "185/185 [==============================] - 2s 12ms/step - loss: 0.4616 - accuracy: 0.6852 - val_loss: 0.4633 - val_accuracy: 0.6732\n",
            "Epoch 15/50\n",
            "185/185 [==============================] - 2s 12ms/step - loss: 0.4606 - accuracy: 0.6855 - val_loss: 0.4671 - val_accuracy: 0.6671\n",
            "Epoch 16/50\n",
            "185/185 [==============================] - 2s 13ms/step - loss: 0.4615 - accuracy: 0.6906 - val_loss: 0.4640 - val_accuracy: 0.6729\n",
            "Epoch 17/50\n",
            "185/185 [==============================] - 2s 12ms/step - loss: 0.4597 - accuracy: 0.6962 - val_loss: 0.4646 - val_accuracy: 0.6648\n",
            "Epoch 18/50\n",
            "185/185 [==============================] - 2s 12ms/step - loss: 0.4577 - accuracy: 0.6973 - val_loss: 0.4639 - val_accuracy: 0.6783\n",
            "Epoch 19/50\n",
            "185/185 [==============================] - 2s 11ms/step - loss: 0.4570 - accuracy: 0.6986 - val_loss: 0.4640 - val_accuracy: 0.6840\n",
            "Epoch 20/50\n",
            "185/185 [==============================] - 2s 12ms/step - loss: 0.4584 - accuracy: 0.6906 - val_loss: 0.4648 - val_accuracy: 0.6813\n",
            "Epoch 21/50\n",
            "185/185 [==============================] - 2s 12ms/step - loss: 0.4565 - accuracy: 0.7053 - val_loss: 0.4640 - val_accuracy: 0.6762\n",
            "Epoch 22/50\n",
            "185/185 [==============================] - 2s 12ms/step - loss: 0.4557 - accuracy: 0.7029 - val_loss: 0.4692 - val_accuracy: 0.6631\n",
            "Epoch 23/50\n",
            "185/185 [==============================] - 2s 12ms/step - loss: 0.4562 - accuracy: 0.7004 - val_loss: 0.4665 - val_accuracy: 0.6773\n",
            "Epoch 24/50\n",
            "185/185 [==============================] - 2s 12ms/step - loss: 0.4599 - accuracy: 0.6971 - val_loss: 0.4640 - val_accuracy: 0.6827\n",
            "Epoch 25/50\n",
            "185/185 [==============================] - 2s 11ms/step - loss: 0.4618 - accuracy: 0.6990 - val_loss: 0.4620 - val_accuracy: 0.6776\n",
            "Epoch 26/50\n",
            "185/185 [==============================] - 2s 13ms/step - loss: 0.4570 - accuracy: 0.6978 - val_loss: 0.4660 - val_accuracy: 0.6705\n",
            "Epoch 27/50\n",
            "185/185 [==============================] - 2s 12ms/step - loss: 0.4556 - accuracy: 0.7095 - val_loss: 0.4642 - val_accuracy: 0.6786\n",
            "Epoch 28/50\n",
            "185/185 [==============================] - 2s 13ms/step - loss: 0.4520 - accuracy: 0.7064 - val_loss: 0.4680 - val_accuracy: 0.6742\n",
            "Epoch 29/50\n",
            "185/185 [==============================] - 2s 12ms/step - loss: 0.4535 - accuracy: 0.7137 - val_loss: 0.4715 - val_accuracy: 0.6722\n",
            "Epoch 30/50\n",
            "185/185 [==============================] - 2s 11ms/step - loss: 0.4530 - accuracy: 0.7099 - val_loss: 0.4675 - val_accuracy: 0.6759\n",
            "Epoch 31/50\n",
            "185/185 [==============================] - 2s 11ms/step - loss: 0.4524 - accuracy: 0.7125 - val_loss: 0.4653 - val_accuracy: 0.6803\n",
            "Epoch 32/50\n",
            "185/185 [==============================] - 2s 11ms/step - loss: 0.4538 - accuracy: 0.7047 - val_loss: 0.4643 - val_accuracy: 0.6671\n",
            "Epoch 33/50\n",
            "185/185 [==============================] - 2s 11ms/step - loss: 0.4493 - accuracy: 0.7146 - val_loss: 0.4662 - val_accuracy: 0.6715\n",
            "Epoch 34/50\n",
            "185/185 [==============================] - 2s 12ms/step - loss: 0.4509 - accuracy: 0.7066 - val_loss: 0.4737 - val_accuracy: 0.6732\n",
            "Epoch 35/50\n",
            "185/185 [==============================] - 3s 14ms/step - loss: 0.4508 - accuracy: 0.7171 - val_loss: 0.4644 - val_accuracy: 0.6739\n",
            "Epoch 36/50\n",
            "185/185 [==============================] - 2s 13ms/step - loss: 0.4488 - accuracy: 0.7157 - val_loss: 0.4736 - val_accuracy: 0.6786\n",
            "Epoch 37/50\n",
            "185/185 [==============================] - 2s 12ms/step - loss: 0.4521 - accuracy: 0.7135 - val_loss: 0.4685 - val_accuracy: 0.6887\n",
            "Epoch 38/50\n",
            "185/185 [==============================] - 3s 17ms/step - loss: 0.4484 - accuracy: 0.7144 - val_loss: 0.4659 - val_accuracy: 0.6827\n",
            "Epoch 39/50\n",
            "185/185 [==============================] - 3s 16ms/step - loss: 0.4449 - accuracy: 0.7229 - val_loss: 0.4754 - val_accuracy: 0.6759\n",
            "Epoch 40/50\n",
            "185/185 [==============================] - 3s 14ms/step - loss: 0.4444 - accuracy: 0.7202 - val_loss: 0.4763 - val_accuracy: 0.6820\n",
            "Epoch 41/50\n",
            "185/185 [==============================] - 3s 14ms/step - loss: 0.4455 - accuracy: 0.7166 - val_loss: 0.4702 - val_accuracy: 0.6813\n",
            "Epoch 42/50\n",
            "185/185 [==============================] - 3s 14ms/step - loss: 0.4467 - accuracy: 0.7195 - val_loss: 0.4671 - val_accuracy: 0.6759\n",
            "Epoch 43/50\n",
            "185/185 [==============================] - 2s 12ms/step - loss: 0.4435 - accuracy: 0.7269 - val_loss: 0.4755 - val_accuracy: 0.6789\n",
            "Epoch 44/50\n",
            "185/185 [==============================] - 2s 13ms/step - loss: 0.4426 - accuracy: 0.7211 - val_loss: 0.4777 - val_accuracy: 0.6718\n",
            "Epoch 45/50\n",
            "185/185 [==============================] - 2s 12ms/step - loss: 0.4402 - accuracy: 0.7315 - val_loss: 0.4735 - val_accuracy: 0.6698\n",
            "Epoch 46/50\n",
            "185/185 [==============================] - 2s 13ms/step - loss: 0.4395 - accuracy: 0.7292 - val_loss: 0.4771 - val_accuracy: 0.6783\n",
            "Epoch 47/50\n",
            "185/185 [==============================] - 2s 13ms/step - loss: 0.4410 - accuracy: 0.7271 - val_loss: 0.4727 - val_accuracy: 0.6871\n",
            "Epoch 48/50\n",
            "185/185 [==============================] - 2s 13ms/step - loss: 0.4400 - accuracy: 0.7299 - val_loss: 0.4794 - val_accuracy: 0.6752\n",
            "Epoch 49/50\n",
            "185/185 [==============================] - 2s 13ms/step - loss: 0.4364 - accuracy: 0.7353 - val_loss: 0.4795 - val_accuracy: 0.6850\n",
            "Epoch 50/50\n",
            "185/185 [==============================] - 3s 14ms/step - loss: 0.4337 - accuracy: 0.7375 - val_loss: 0.4730 - val_accuracy: 0.6867\n"
          ]
        }
      ],
      "source": [
        "history_third = model_third.fit(X_train_third,\n",
        "                                y_train_third,\n",
        "                                epochs=50,\n",
        "                                batch_size=64,\n",
        "                                validation_data=(X_test_third, y_test_third))"
      ]
    },
    {
      "cell_type": "code",
      "execution_count": 43,
      "metadata": {
        "colab": {
          "base_uri": "https://localhost:8080/",
          "height": 472
        },
        "id": "sCJCj6kgMmH4",
        "outputId": "51e4ab15-cef2-4553-d02c-c6b5e0f07b7e"
      },
      "outputs": [
        {
          "data": {
            "image/png": "[encoded data removed]",
            "text/plain": [
              "<Figure size 640x480 with 1 Axes>"
            ]
          },
          "metadata": {},
          "output_type": "display_data"
        }
      ],
      "source": [
        "plot_accuracy(history_third)"
      ]
    },
    {
      "cell_type": "code",
      "execution_count": 44,
      "metadata": {},
      "outputs": [
        {
          "data": {
            "image/png": "[encoded data removed]",
            "text/plain": [
              "<Figure size 640x480 with 1 Axes>"
            ]
          },
          "metadata": {},
          "output_type": "display_data"
        }
      ],
      "source": [
        "plot_loss(history_second)"
      ]
    },
    {
      "cell_type": "code",
      "execution_count": 45,
      "metadata": {
        "colab": {
          "base_uri": "https://localhost:8080/"
        },
        "id": "6ehwvylfM0Ay",
        "outputId": "56999d19-8736-4b6b-c774-baa28d2f74d7"
      },
      "outputs": [
        {
          "name": "stdout",
          "output_type": "stream",
          "text": [
            "93/93 [==============================] - 0s 5ms/step - loss: 0.4730 - accuracy: 0.6867\n",
            "Test Loss: 0.4730\n",
            "Test Accuracy: 0.6867\n"
          ]
        }
      ],
      "source": [
        "loss, accuracy = model_third.evaluate(X_test_third, y_test_third)\n",
        "print(f\"Test Loss: {loss:.4f}\")\n",
        "print(f\"Test Accuracy: {accuracy:.4f}\")"
      ]
    },
    {
      "cell_type": "code",
      "execution_count": 46,
      "metadata": {
        "colab": {
          "base_uri": "https://localhost:8080/"
        },
        "id": "hnKX-j0tNAZR",
        "outputId": "4dcd931b-1897-4bbb-9143-4403fe42e1d6"
      },
      "outputs": [
        {
          "name": "stdout",
          "output_type": "stream",
          "text": [
            "93/93 [==============================] - 0s 3ms/step\n"
          ]
        }
      ],
      "source": [
        "y_pred_third = model_third.predict(X_test_third)\n",
        "y_pred_classes_third = np.argmax(y_pred_third, axis=1)\n",
        "y_true_third = np.argmax(y_test_third, axis=1)"
      ]
    },
    {
      "cell_type": "code",
      "execution_count": 47,
      "metadata": {
        "colab": {
          "base_uri": "https://localhost:8080/",
          "height": 564
        },
        "id": "SXNqzBLCt22q",
        "outputId": "60e17ce4-1fa4-4fa4-85a9-2c2d74e3fe75"
      },
      "outputs": [
        {
          "data": {
            "image/png": "[encoded data removed]",
            "text/plain": [
              "<Figure size 800x600 with 2 Axes>"
            ]
          },
          "metadata": {},
          "output_type": "display_data"
        }
      ],
      "source": [
        "confusion_matrix_plot(y_true_third, y_pred_classes_third)"
      ]
    }
  ],
  "metadata": {
    "accelerator": "GPU",
    "colab": {
      "gpuType": "T4",
      "provenance": []
    },
    "kernelspec": {
      "display_name": "Python 3",
      "name": "python3"
    },
    "language_info": {
      "codemirror_mode": {
        "name": "ipython",
        "version": 3
      },
      "file_extension": ".py",
      "mimetype": "text/x-python",
      "name": "python",
      "nbconvert_exporter": "python",
      "pygments_lexer": "ipython3",
      "version": "3.10.0"
    }
  },
  "nbformat": 4,
  "nbformat_minor": 0
}
